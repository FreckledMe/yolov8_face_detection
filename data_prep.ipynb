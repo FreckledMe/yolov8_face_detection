{
 "cells": [
  {
   "cell_type": "code",
   "execution_count": 1,
   "id": "6b3060f9",
   "metadata": {},
   "outputs": [],
   "source": [
    "import pandas as pd\n",
    "import re\n",
    "import cv2\n",
    "import os\n",
    "import shutil"
   ]
  },
  {
   "cell_type": "code",
   "execution_count": 4,
   "id": "06020ab6",
   "metadata": {},
   "outputs": [],
   "source": [
    "with open('WIDER_face/wider_face_split/wider_face_val_bbx_gt.txt',encoding='cp1252') as f:\n",
    "    lines = f.readlines()"
   ]
  },
  {
   "cell_type": "code",
   "execution_count": 5,
   "id": "3751c3ab",
   "metadata": {},
   "outputs": [],
   "source": [
    "for line in lines:\n",
    "    if re.search('[a-zA-Z]',line):\n",
    "        text_name = line[line.find('/')+1:len(line)-5]\n",
    "        with open('test_labels/'+text_name+'.txt','w') as f:\n",
    "            f.close()\n",
    "    \n",
    "    elif ' ' in line:\n",
    "        with open('test_labels/'+text_name+'.txt','a') as f:\n",
    "            f.write('0 ' + line[:-14]+'\\n')"
   ]
  },
  {
   "cell_type": "code",
   "execution_count": 3,
   "id": "43f5d4f0",
   "metadata": {},
   "outputs": [],
   "source": [
    "source_dir = 'WIDER_face/WIDER_test/WIDER_test/images/'\n",
    "\n",
    "dest_dir = 'test_images/'\n",
    "\n",
    "if not os.path.exists(dest_dir):\n",
    "    os.makedirs(dest_dir)\n",
    "\n",
    "# loop through each folder in the source directory\n",
    "for folder_name in os.listdir(source_dir):\n",
    "    # get the full path of the folder\n",
    "    folder_path = os.path.join(source_dir, folder_name)\n",
    "    # check if the folder is a directory\n",
    "    if os.path.isdir(folder_path):\n",
    "        # loop through each file in the folder\n",
    "        for file_name in os.listdir(folder_path):\n",
    "            # get the full path of the file\n",
    "            file_path = os.path.join(folder_path, file_name)\n",
    "            # check if the file is an image\n",
    "            if file_name.endswith('.jpg') or file_name.endswith('.jpeg') or file_name.endswith('.png'):\n",
    "                # move the file to the destination directory\n",
    "                shutil.move(file_path, dest_dir)"
   ]
  },
  {
   "cell_type": "code",
   "execution_count": 3,
   "id": "79dbe5dd",
   "metadata": {},
   "outputs": [],
   "source": [
    "label_dir = 'train_labels/'\n",
    "new_dir = 'train_data_labels/'\n",
    "\n",
    "for file_name in os.listdir(label_dir):\n",
    "    img = cv2.imread('train/'+file_name[:-4]+'.jpg')\n",
    "    y = img.shape[0]\n",
    "    x = img.shape[1]\n",
    "    \n",
    "    with open(label_dir+file_name,'r') as f:\n",
    "        lines = f.readlines()\n",
    "        for line_number,line in enumerate(lines):\n",
    "            numbers = line.split(' ')\n",
    "            for i,number in enumerate(numbers):\n",
    "                if i == 0:\n",
    "                    continue\n",
    "\n",
    "                elif i == 1:\n",
    "                    numbers[i] = str((int(numbers[i])+int(numbers[i+2])/2)/x)\n",
    "\n",
    "                elif i == 2:\n",
    "                    numbers[i] = str((int(numbers[i])+int(numbers[i+2])/2)/y)\n",
    "\n",
    "                elif i == 3:\n",
    "                    numbers[i] = str(int(numbers[i])/x)\n",
    "                \n",
    "                elif i == 4:\n",
    "                    numbers[i] = str(int(numbers[i])/y)\n",
    "                \n",
    "                    \n",
    "            numbers = ' '.join(numbers)\n",
    "            lines[line_number] = numbers\n",
    "        f.close()\n",
    "\n",
    "    with open(new_dir+file_name,'w') as k:\n",
    "        for line in lines:\n",
    "            k.write(line+'\\n')\n",
    "        k.close()"
   ]
  }
 ],
 "metadata": {
  "kernelspec": {
   "display_name": "gpu",
   "language": "python",
   "name": "python3"
  },
  "language_info": {
   "codemirror_mode": {
    "name": "ipython",
    "version": 3
   },
   "file_extension": ".py",
   "mimetype": "text/x-python",
   "name": "python",
   "nbconvert_exporter": "python",
   "pygments_lexer": "ipython3",
   "version": "3.9.16"
  },
  "varInspector": {
   "cols": {
    "lenName": 16,
    "lenType": 16,
    "lenVar": 40
   },
   "kernels_config": {
    "python": {
     "delete_cmd_postfix": "",
     "delete_cmd_prefix": "del ",
     "library": "var_list.py",
     "varRefreshCmd": "print(var_dic_list())"
    },
    "r": {
     "delete_cmd_postfix": ") ",
     "delete_cmd_prefix": "rm(",
     "library": "var_list.r",
     "varRefreshCmd": "cat(var_dic_list()) "
    }
   },
   "types_to_exclude": [
    "module",
    "function",
    "builtin_function_or_method",
    "instance",
    "_Feature"
   ],
   "window_display": false
  }
 },
 "nbformat": 4,
 "nbformat_minor": 5
}
