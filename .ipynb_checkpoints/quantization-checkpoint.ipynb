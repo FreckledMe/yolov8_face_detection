{
 "cells": [
  {
   "cell_type": "markdown",
   "id": "9f355280",
   "metadata": {},
   "source": [
    "## ONNX quantization"
   ]
  },
  {
   "cell_type": "code",
   "execution_count": 5,
   "id": "85b2f1a7",
   "metadata": {},
   "outputs": [],
   "source": [
    "import torch\n",
    "import torchvision\n",
    "import onnx\n",
    "from onnxruntime.quantization import quantize_dynamic, QuantType,quantize_static\n",
    "from onnxruntime import quantization\n",
    "import os\n",
    "from onnx import numpy_helper"
   ]
  },
  {
   "cell_type": "code",
   "execution_count": 3,
   "id": "d7bf6566",
   "metadata": {},
   "outputs": [],
   "source": [
    "def quantize_onnx_model(onnx_model_path, quantized_model_path):\n",
    "    quantize_dynamic(onnx_model_path,\n",
    "                     quantized_model_path,\n",
    "                     weight_type=QuantType.QInt8)\n",
    "\n",
    "quantize_onnx_model('models/mymodel.onnx','models/onnx_quant_int8.onnx')"
   ]
  },
  {
   "cell_type": "code",
   "execution_count": 4,
   "id": "361e98db",
   "metadata": {},
   "outputs": [],
   "source": [
    "model = onnx.load('models/mymodel.onnx')\n",
    "weights = model.graph.initializer\n",
    "quantized_model = onnx.load('models/onnx_quant_int8.onnx')\n",
    "quantized_weights = quantized_model.graph.initializer"
   ]
  },
  {
   "cell_type": "code",
   "execution_count": 56,
   "id": "a5d03b1a",
   "metadata": {},
   "outputs": [
    {
     "data": {
      "text/plain": [
       "array([[[[ 2.4471283e-03]],\n",
       "\n",
       "        [[-1.0559082e-01]],\n",
       "\n",
       "        [[-1.4379883e-01]],\n",
       "\n",
       "        ...,\n",
       "\n",
       "        [[ 1.1407471e-01]],\n",
       "\n",
       "        [[ 8.1542969e-02]],\n",
       "\n",
       "        [[-1.1390686e-02]]],\n",
       "\n",
       "\n",
       "       [[[ 7.5912476e-03]],\n",
       "\n",
       "        [[-1.3012695e-01]],\n",
       "\n",
       "        [[-1.0760498e-01]],\n",
       "\n",
       "        ...,\n",
       "\n",
       "        [[-8.3618164e-02]],\n",
       "\n",
       "        [[ 1.1804199e-01]],\n",
       "\n",
       "        [[ 1.9204617e-04]]],\n",
       "\n",
       "\n",
       "       [[[ 1.2306213e-02]],\n",
       "\n",
       "        [[-1.5795898e-01]],\n",
       "\n",
       "        [[ 1.3562012e-01]],\n",
       "\n",
       "        ...,\n",
       "\n",
       "        [[-1.0723877e-01]],\n",
       "\n",
       "        [[-2.3413086e-01]],\n",
       "\n",
       "        [[ 8.0490112e-03]]],\n",
       "\n",
       "\n",
       "       ...,\n",
       "\n",
       "\n",
       "       [[[-1.4208984e-01]],\n",
       "\n",
       "        [[-1.7364502e-02]],\n",
       "\n",
       "        [[-1.0870361e-01]],\n",
       "\n",
       "        ...,\n",
       "\n",
       "        [[-4.9133301e-02]],\n",
       "\n",
       "        [[-7.8186035e-02]],\n",
       "\n",
       "        [[-6.7443848e-02]]],\n",
       "\n",
       "\n",
       "       [[[-1.3854980e-01]],\n",
       "\n",
       "        [[-2.1667480e-02]],\n",
       "\n",
       "        [[-1.1419678e-01]],\n",
       "\n",
       "        ...,\n",
       "\n",
       "        [[-3.9306641e-02]],\n",
       "\n",
       "        [[-7.9833984e-02]],\n",
       "\n",
       "        [[-7.7758789e-02]]],\n",
       "\n",
       "\n",
       "       [[[-1.3708496e-01]],\n",
       "\n",
       "        [[-1.8890381e-02]],\n",
       "\n",
       "        [[-1.4990234e-01]],\n",
       "\n",
       "        ...,\n",
       "\n",
       "        [[-2.9067993e-02]],\n",
       "\n",
       "        [[-6.8725586e-02]],\n",
       "\n",
       "        [[-9.8083496e-02]]]], dtype=float32)"
      ]
     },
     "execution_count": 56,
     "metadata": {},
     "output_type": "execute_result"
    }
   ],
   "source": [
    "numpy_helper.to_array(weights[0])"
   ]
  },
  {
   "cell_type": "code",
   "execution_count": 58,
   "id": "828bc123",
   "metadata": {},
   "outputs": [
    {
     "data": {
      "text/plain": [
       "array([ 2.3261719 ,  2.4003906 ,  2.3046875 ,  1.9296875 ,  2.6230469 ,\n",
       "        2.7109375 ,  1.9853516 ,  1.3144531 ,  1.0136719 ,  0.6640625 ,\n",
       "        0.15930176, -0.54541016, -0.54833984, -1.1679688 , -1.3134766 ,\n",
       "       -0.37719727,  2.4277344 ,  2.5800781 ,  2.4082031 ,  2.4433594 ,\n",
       "        2.28125   ,  2.3125    ,  2.1230469 ,  1.6835938 ,  1.0996094 ,\n",
       "        0.49560547, -0.01765442, -0.35986328, -0.85498047, -1.0664062 ,\n",
       "       -1.2724609 , -0.5263672 ,  2.625     ,  2.5039062 ,  2.3183594 ,\n",
       "        2.4902344 ,  2.4746094 ,  2.4335938 ,  2.1210938 ,  1.4511719 ,\n",
       "        0.87402344,  0.17370605, -0.2163086 , -0.4345703 , -0.74121094,\n",
       "       -0.8613281 , -1.3583984 , -0.4909668 ,  2.8378906 ,  2.6035156 ,\n",
       "        2.5214844 ,  2.5429688 ,  2.4960938 ,  1.7529297 ,  1.4257812 ,\n",
       "        1.3232422 ,  0.89941406,  0.3425293 ,  0.00337029, -0.23327637,\n",
       "       -0.46826172, -0.75439453, -1.2460938 , -0.2939453 ], dtype=float32)"
      ]
     },
     "execution_count": 58,
     "metadata": {},
     "output_type": "execute_result"
    }
   ],
   "source": [
    "numpy_helper.to_array(quantized_weights[0])"
   ]
  }
 ],
 "metadata": {
  "kernelspec": {
   "display_name": "yolo",
   "language": "python",
   "name": "yolo"
  },
  "language_info": {
   "codemirror_mode": {
    "name": "ipython",
    "version": 3
   },
   "file_extension": ".py",
   "mimetype": "text/x-python",
   "name": "python",
   "nbconvert_exporter": "python",
   "pygments_lexer": "ipython3",
   "version": "3.9.16"
  }
 },
 "nbformat": 4,
 "nbformat_minor": 5
}
