{
 "cells": [
  {
   "cell_type": "code",
   "execution_count": 3,
   "id": "bb80ceea",
   "metadata": {},
   "outputs": [
    {
     "name": "stdout",
     "output_type": "stream",
     "text": [
      "building engine\n",
      "[07/28/2023-17:50:55] [TRT] [W] onnx2trt_utils.cpp:374: Your ONNX model has been generated with INT64 weights, while TensorRT does not natively support INT64. Attempting to cast down to INT32.\n",
      "network.num_layers 786\n"
     ]
    },
    {
     "name": "stderr",
     "output_type": "stream",
     "text": [
      "/tmp/ipykernel_13397/2811469131.py:15: DeprecationWarning: Use set_memory_pool_limit instead.\n",
      "  config.max_workspace_size = max_ws\n",
      "/tmp/ipykernel_13397/2811469131.py:27: DeprecationWarning: Use build_serialized_network instead.\n",
      "  engine = builder.build_engine(network, config=config)\n"
     ]
    }
   ],
   "source": [
    "import tensorrt as trt\n",
    "import pycuda.autoinit\n",
    "import pycuda.driver as cuda\n",
    "\n",
    "\n",
    "def build_engine(model_file, max_ws=512*1024*1024, fp16=False):\n",
    "    print(\"building engine\")\n",
    "    TRT_LOGGER = trt.Logger(trt.Logger.WARNING)\n",
    "    # logging_manager = trt.LoggingManager()\n",
    "    # debug_level = logging_manager.LEVEL.DEBUG\n",
    "    # builder = trt.Builder(debug_level)\n",
    "    builder = trt.Builder(TRT_LOGGER)\n",
    "    # builder.fp16_enabled = True\n",
    "    config = builder.create_builder_config()\n",
    "    config.max_workspace_size = max_ws\n",
    "    if fp16:\n",
    "        config.flags |= 1 << int(trt.BuilderFlag.FP16)\n",
    "\n",
    "    explicit_batch = 1 << int(trt.NetworkDefinitionCreationFlag.EXPLICIT_BATCH)\n",
    "    network = builder.create_network(explicit_batch)\n",
    "    with trt.OnnxParser(network, TRT_LOGGER) as parser:\n",
    "        with open(model_file, 'rb') as model:\n",
    "            parsed = parser.parse(model.read())\n",
    "            print(\"network.num_layers\", network.num_layers)\n",
    "            #last_layer = network.get_layer(network.num_layers - 1)\n",
    "            #network.mark_output(last_layer.get_output(0))\n",
    "            engine = builder.build_engine(network, config=config)\n",
    "            return engine\n",
    "engine = build_engine(\"mymodel.onnx\")\n",
    "\n",
    "\n",
    "with open('tensorrt.engine', 'wb') as f:\n",
    "    f.write(bytearray(engine.serialize()))"
   ]
  }
 ],
 "metadata": {
  "kernelspec": {
   "display_name": "kamal",
   "language": "python",
   "name": "kamal"
  },
  "language_info": {
   "codemirror_mode": {
    "name": "ipython",
    "version": 3
   },
   "file_extension": ".py",
   "mimetype": "text/x-python",
   "name": "python",
   "nbconvert_exporter": "python",
   "pygments_lexer": "ipython3",
   "version": "3.9.16"
  }
 },
 "nbformat": 4,
 "nbformat_minor": 5
}
